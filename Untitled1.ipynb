{
 "cells": [
  {
   "cell_type": "code",
   "execution_count": 1,
   "id": "297a3ffa-83d8-4274-b506-31046b3e6702",
   "metadata": {},
   "outputs": [],
   "source": [
    "import csv"
   ]
  },
  {
   "cell_type": "code",
   "execution_count": 2,
   "id": "79fad487-3bf9-4fe9-adf5-4c130c425ce3",
   "metadata": {},
   "outputs": [
    {
     "data": {
      "text/plain": [
       "<_io.TextIOWrapper name='student data.csv' mode='r' encoding='cp1252'>"
      ]
     },
     "execution_count": 2,
     "metadata": {},
     "output_type": "execute_result"
    }
   ],
   "source": [
    "open_file = open('student data.csv',mode = 'r')\n",
    "open_file"
   ]
  },
  {
   "cell_type": "code",
   "execution_count": 3,
   "id": "8790848b-d0ce-47f6-9677-f3a2bd0de7e2",
   "metadata": {},
   "outputs": [
    {
     "data": {
      "text/plain": [
       "<_csv.reader at 0x20893491360>"
      ]
     },
     "execution_count": 3,
     "metadata": {},
     "output_type": "execute_result"
    }
   ],
   "source": [
    "read = csv.reader(open_file)\n",
    "read"
   ]
  },
  {
   "cell_type": "code",
   "execution_count": 4,
   "id": "1c2787b7-6e96-4827-965a-5935f22629c8",
   "metadata": {},
   "outputs": [
    {
     "data": {
      "text/plain": [
       "[['roll no', 'Name', 'Chemistry', 'Physics', 'Math'],\n",
       " ['101', 'Aliza', '50', '23', '87'],\n",
       " ['102', 'Fareed', '45', '24', '88'],\n",
       " ['103', 'Basit', '46', '25', '89'],\n",
       " ['104', 'Abdullah', '47', '26', '90'],\n",
       " ['105', 'Ali', '48', '27', '67'],\n",
       " ['106', 'Mubashir', '49', '28', '68'],\n",
       " ['107', 'Waleed', '50', '29', '69'],\n",
       " ['108', 'Mansoor', '51', '30', '70'],\n",
       " ['109', 'Zain', '52', '31', '71'],\n",
       " ['110', 'Mohsin', '53', '67', '72'],\n",
       " ['111', 'Shahmeer', '54', '68', '73'],\n",
       " ['112', 'Rao', '55', '69', '74'],\n",
       " ['113', 'Aurangzeb', '56', '70', '75'],\n",
       " ['114', 'Zeeshan', '57', '71', '76'],\n",
       " ['115', 'Hamna', '58', '72', '77'],\n",
       " ['116', 'Hamza', '59', '73', '78'],\n",
       " ['117', 'Khalid', '60', '74', '79'],\n",
       " ['118', 'Behroz', '61', '75', '80'],\n",
       " ['119', 'Justin', '62', '76', '81'],\n",
       " ['120', 'Danish', '63', '77', '82'],\n",
       " ['121', 'Kainat', '64', '78', '83'],\n",
       " ['122', 'Sameer', '65', '79', '84'],\n",
       " ['123', 'Raza', '66', '80', '85'],\n",
       " ['124', 'Kumar', '67', '81', '86'],\n",
       " ['125', 'Komal', '68', '82', '87'],\n",
       " ['126', 'Erum', '69', '83', '88'],\n",
       " ['127', 'Faiza', '70', '84', '89'],\n",
       " ['128', 'Saeed', '71', '85', '90'],\n",
       " ['129', 'Waqar', '72', '86', '91'],\n",
       " ['130', 'Wali', '73', '87', '92'],\n",
       " ['131', 'Wajid', '74', '88', '93'],\n",
       " ['132', 'Waseeb', '75', '89', '94'],\n",
       " ['133', 'Shiza', '76', '90', '95'],\n",
       " ['134', 'Shabina', '77', '91', '96'],\n",
       " ['135', 'Shazain', '78', '55', '97'],\n",
       " ['136', 'Lubna', '79', '61', '98'],\n",
       " ['137', 'Laiba', '80', '88', '78'],\n",
       " ['138', 'Khursheed', '81', '56', '45'],\n",
       " ['139', 'Ali', '82', '89', '46'],\n",
       " ['140', 'Aiza', '83', '45', '89'],\n",
       " ['141', 'Aiman', '84', '92', '78'],\n",
       " ['142', 'Yasmeen', '85', '36', '56'],\n",
       " ['143', 'Tasbeel', '86', '78', '78'],\n",
       " ['144', 'Laraib', '87', '56', '54'],\n",
       " ['145', 'Saleem', '88', '78', '78'],\n",
       " ['146', 'Bismil', '89', '89', '46'],\n",
       " ['147', 'Batool', '90', '56', '79'],\n",
       " ['148', 'Iqra', '91', '33', '46'],\n",
       " ['149', 'Zarnish', '92', '78', '45'],\n",
       " ['150', 'Zara', '83', '45', '56']]"
      ]
     },
     "execution_count": 4,
     "metadata": {},
     "output_type": "execute_result"
    }
   ],
   "source": [
    "data = list(read)\n",
    "data"
   ]
  },
  {
   "cell_type": "code",
   "execution_count": 5,
   "id": "4a7cc264-fc56-4741-8ec7-1a686ccb7a50",
   "metadata": {},
   "outputs": [
    {
     "data": {
      "text/plain": [
       "['roll no', 'Name', 'Chemistry', 'Physics', 'Math']"
      ]
     },
     "execution_count": 5,
     "metadata": {},
     "output_type": "execute_result"
    }
   ],
   "source": [
    "data_header = data[0]\n",
    "data_header"
   ]
  },
  {
   "cell_type": "code",
   "execution_count": 6,
   "id": "8336ce8a-559b-49a5-a1dd-c4e0611d57c5",
   "metadata": {},
   "outputs": [
    {
     "data": {
      "text/plain": [
       "[['101', 'Aliza', '50', '23', '87'],\n",
       " ['102', 'Fareed', '45', '24', '88'],\n",
       " ['103', 'Basit', '46', '25', '89'],\n",
       " ['104', 'Abdullah', '47', '26', '90'],\n",
       " ['105', 'Ali', '48', '27', '67'],\n",
       " ['106', 'Mubashir', '49', '28', '68'],\n",
       " ['107', 'Waleed', '50', '29', '69'],\n",
       " ['108', 'Mansoor', '51', '30', '70'],\n",
       " ['109', 'Zain', '52', '31', '71'],\n",
       " ['110', 'Mohsin', '53', '67', '72'],\n",
       " ['111', 'Shahmeer', '54', '68', '73'],\n",
       " ['112', 'Rao', '55', '69', '74'],\n",
       " ['113', 'Aurangzeb', '56', '70', '75'],\n",
       " ['114', 'Zeeshan', '57', '71', '76'],\n",
       " ['115', 'Hamna', '58', '72', '77'],\n",
       " ['116', 'Hamza', '59', '73', '78'],\n",
       " ['117', 'Khalid', '60', '74', '79'],\n",
       " ['118', 'Behroz', '61', '75', '80'],\n",
       " ['119', 'Justin', '62', '76', '81'],\n",
       " ['120', 'Danish', '63', '77', '82'],\n",
       " ['121', 'Kainat', '64', '78', '83'],\n",
       " ['122', 'Sameer', '65', '79', '84'],\n",
       " ['123', 'Raza', '66', '80', '85'],\n",
       " ['124', 'Kumar', '67', '81', '86'],\n",
       " ['125', 'Komal', '68', '82', '87'],\n",
       " ['126', 'Erum', '69', '83', '88'],\n",
       " ['127', 'Faiza', '70', '84', '89'],\n",
       " ['128', 'Saeed', '71', '85', '90'],\n",
       " ['129', 'Waqar', '72', '86', '91'],\n",
       " ['130', 'Wali', '73', '87', '92'],\n",
       " ['131', 'Wajid', '74', '88', '93'],\n",
       " ['132', 'Waseeb', '75', '89', '94'],\n",
       " ['133', 'Shiza', '76', '90', '95'],\n",
       " ['134', 'Shabina', '77', '91', '96'],\n",
       " ['135', 'Shazain', '78', '55', '97'],\n",
       " ['136', 'Lubna', '79', '61', '98'],\n",
       " ['137', 'Laiba', '80', '88', '78'],\n",
       " ['138', 'Khursheed', '81', '56', '45'],\n",
       " ['139', 'Ali', '82', '89', '46'],\n",
       " ['140', 'Aiza', '83', '45', '89'],\n",
       " ['141', 'Aiman', '84', '92', '78'],\n",
       " ['142', 'Yasmeen', '85', '36', '56'],\n",
       " ['143', 'Tasbeel', '86', '78', '78'],\n",
       " ['144', 'Laraib', '87', '56', '54'],\n",
       " ['145', 'Saleem', '88', '78', '78'],\n",
       " ['146', 'Bismil', '89', '89', '46'],\n",
       " ['147', 'Batool', '90', '56', '79'],\n",
       " ['148', 'Iqra', '91', '33', '46'],\n",
       " ['149', 'Zarnish', '92', '78', '45'],\n",
       " ['150', 'Zara', '83', '45', '56']]"
      ]
     },
     "execution_count": 6,
     "metadata": {},
     "output_type": "execute_result"
    }
   ],
   "source": [
    "student_data = data[1:]\n",
    "student_data"
   ]
  },
  {
   "cell_type": "code",
   "execution_count": 7,
   "id": "b739835c-52d6-41aa-b219-42f04b8b02e1",
   "metadata": {},
   "outputs": [],
   "source": [
    "phys_marks = []\n",
    "for i in student_data:\n",
    "    phys_marks.append(float(i[3]))"
   ]
  },
  {
   "cell_type": "code",
   "execution_count": 8,
   "id": "d43075c2-8adc-4ee1-88e5-e5cd64d7e70a",
   "metadata": {},
   "outputs": [
    {
     "data": {
      "text/plain": [
       "[23.0,\n",
       " 24.0,\n",
       " 25.0,\n",
       " 26.0,\n",
       " 27.0,\n",
       " 28.0,\n",
       " 29.0,\n",
       " 30.0,\n",
       " 31.0,\n",
       " 67.0,\n",
       " 68.0,\n",
       " 69.0,\n",
       " 70.0,\n",
       " 71.0,\n",
       " 72.0,\n",
       " 73.0,\n",
       " 74.0,\n",
       " 75.0,\n",
       " 76.0,\n",
       " 77.0,\n",
       " 78.0,\n",
       " 79.0,\n",
       " 80.0,\n",
       " 81.0,\n",
       " 82.0,\n",
       " 83.0,\n",
       " 84.0,\n",
       " 85.0,\n",
       " 86.0,\n",
       " 87.0,\n",
       " 88.0,\n",
       " 89.0,\n",
       " 90.0,\n",
       " 91.0,\n",
       " 55.0,\n",
       " 61.0,\n",
       " 88.0,\n",
       " 56.0,\n",
       " 89.0,\n",
       " 45.0,\n",
       " 92.0,\n",
       " 36.0,\n",
       " 78.0,\n",
       " 56.0,\n",
       " 78.0,\n",
       " 89.0,\n",
       " 56.0,\n",
       " 33.0,\n",
       " 78.0,\n",
       " 45.0]"
      ]
     },
     "execution_count": 8,
     "metadata": {},
     "output_type": "execute_result"
    }
   ],
   "source": [
    "phys_marks"
   ]
  },
  {
   "cell_type": "code",
   "execution_count": 9,
   "id": "d8897c9a-daab-4e70-8ccf-a9b0983fc0b8",
   "metadata": {},
   "outputs": [],
   "source": [
    "avg_phys_marks = sum(phys_marks)/len(phys_marks)"
   ]
  },
  {
   "cell_type": "code",
   "execution_count": 10,
   "id": "ab9b5dd6-ada5-40ce-8729-ac357ae7e982",
   "metadata": {},
   "outputs": [
    {
     "data": {
      "text/plain": [
       "65.06"
      ]
     },
     "execution_count": 10,
     "metadata": {},
     "output_type": "execute_result"
    }
   ],
   "source": [
    "avg_phys_marks"
   ]
  },
  {
   "cell_type": "code",
   "execution_count": 11,
   "id": "fb85c148-f131-458e-a4cc-7b31989ec67c",
   "metadata": {},
   "outputs": [
    {
     "data": {
      "text/plain": [
       "[87.0,\n",
       " 88.0,\n",
       " 89.0,\n",
       " 90.0,\n",
       " 67.0,\n",
       " 68.0,\n",
       " 69.0,\n",
       " 70.0,\n",
       " 71.0,\n",
       " 72.0,\n",
       " 73.0,\n",
       " 74.0,\n",
       " 75.0,\n",
       " 76.0,\n",
       " 77.0,\n",
       " 78.0,\n",
       " 79.0,\n",
       " 80.0,\n",
       " 81.0,\n",
       " 82.0,\n",
       " 83.0,\n",
       " 84.0,\n",
       " 85.0,\n",
       " 86.0,\n",
       " 87.0,\n",
       " 88.0,\n",
       " 89.0,\n",
       " 90.0,\n",
       " 91.0,\n",
       " 92.0,\n",
       " 93.0,\n",
       " 94.0,\n",
       " 95.0,\n",
       " 96.0,\n",
       " 97.0,\n",
       " 98.0,\n",
       " 78.0,\n",
       " 45.0,\n",
       " 46.0,\n",
       " 89.0,\n",
       " 78.0,\n",
       " 56.0,\n",
       " 78.0,\n",
       " 54.0,\n",
       " 78.0,\n",
       " 46.0,\n",
       " 79.0,\n",
       " 46.0,\n",
       " 45.0,\n",
       " 56.0]"
      ]
     },
     "execution_count": 11,
     "metadata": {},
     "output_type": "execute_result"
    }
   ],
   "source": [
    "maths_marks = []\n",
    "for i in student_data:\n",
    "    maths_marks.append(float(i[4]))\n",
    "\n",
    "maths_marks"
   ]
  },
  {
   "cell_type": "code",
   "execution_count": 12,
   "id": "fde9dcd4-b128-4822-a280-40c5f24f152e",
   "metadata": {},
   "outputs": [
    {
     "data": {
      "text/plain": [
       "77.36"
      ]
     },
     "execution_count": 12,
     "metadata": {},
     "output_type": "execute_result"
    }
   ],
   "source": [
    "avg_maths = sum(maths_marks) / len(maths_marks)\n",
    "avg_maths"
   ]
  },
  {
   "cell_type": "code",
   "execution_count": 13,
   "id": "c1b8d616-0c11-4cbb-ab13-14de556ee78c",
   "metadata": {},
   "outputs": [],
   "source": [
    "for per in student_data:\n",
    "    chem = int(per[2])\n",
    "    phy = int(per[3])\n",
    "    maths = int(per[4])\n",
    "    percentage = round((chem + phy + maths) / 300 *100,1)\n",
    "    per.append(percentage)\n",
    "    "
   ]
  },
  {
   "cell_type": "code",
   "execution_count": 14,
   "id": "ce1974d5-484f-4c0f-bdd6-ecfd9ea0f3eb",
   "metadata": {},
   "outputs": [
    {
     "data": {
      "text/plain": [
       "[['101', 'Aliza', '50', '23', '87', 53.3],\n",
       " ['102', 'Fareed', '45', '24', '88', 52.3],\n",
       " ['103', 'Basit', '46', '25', '89', 53.3],\n",
       " ['104', 'Abdullah', '47', '26', '90', 54.3],\n",
       " ['105', 'Ali', '48', '27', '67', 47.3],\n",
       " ['106', 'Mubashir', '49', '28', '68', 48.3],\n",
       " ['107', 'Waleed', '50', '29', '69', 49.3],\n",
       " ['108', 'Mansoor', '51', '30', '70', 50.3],\n",
       " ['109', 'Zain', '52', '31', '71', 51.3],\n",
       " ['110', 'Mohsin', '53', '67', '72', 64.0],\n",
       " ['111', 'Shahmeer', '54', '68', '73', 65.0],\n",
       " ['112', 'Rao', '55', '69', '74', 66.0],\n",
       " ['113', 'Aurangzeb', '56', '70', '75', 67.0],\n",
       " ['114', 'Zeeshan', '57', '71', '76', 68.0],\n",
       " ['115', 'Hamna', '58', '72', '77', 69.0],\n",
       " ['116', 'Hamza', '59', '73', '78', 70.0],\n",
       " ['117', 'Khalid', '60', '74', '79', 71.0],\n",
       " ['118', 'Behroz', '61', '75', '80', 72.0],\n",
       " ['119', 'Justin', '62', '76', '81', 73.0],\n",
       " ['120', 'Danish', '63', '77', '82', 74.0],\n",
       " ['121', 'Kainat', '64', '78', '83', 75.0],\n",
       " ['122', 'Sameer', '65', '79', '84', 76.0],\n",
       " ['123', 'Raza', '66', '80', '85', 77.0],\n",
       " ['124', 'Kumar', '67', '81', '86', 78.0],\n",
       " ['125', 'Komal', '68', '82', '87', 79.0],\n",
       " ['126', 'Erum', '69', '83', '88', 80.0],\n",
       " ['127', 'Faiza', '70', '84', '89', 81.0],\n",
       " ['128', 'Saeed', '71', '85', '90', 82.0],\n",
       " ['129', 'Waqar', '72', '86', '91', 83.0],\n",
       " ['130', 'Wali', '73', '87', '92', 84.0],\n",
       " ['131', 'Wajid', '74', '88', '93', 85.0],\n",
       " ['132', 'Waseeb', '75', '89', '94', 86.0],\n",
       " ['133', 'Shiza', '76', '90', '95', 87.0],\n",
       " ['134', 'Shabina', '77', '91', '96', 88.0],\n",
       " ['135', 'Shazain', '78', '55', '97', 76.7],\n",
       " ['136', 'Lubna', '79', '61', '98', 79.3],\n",
       " ['137', 'Laiba', '80', '88', '78', 82.0],\n",
       " ['138', 'Khursheed', '81', '56', '45', 60.7],\n",
       " ['139', 'Ali', '82', '89', '46', 72.3],\n",
       " ['140', 'Aiza', '83', '45', '89', 72.3],\n",
       " ['141', 'Aiman', '84', '92', '78', 84.7],\n",
       " ['142', 'Yasmeen', '85', '36', '56', 59.0],\n",
       " ['143', 'Tasbeel', '86', '78', '78', 80.7],\n",
       " ['144', 'Laraib', '87', '56', '54', 65.7],\n",
       " ['145', 'Saleem', '88', '78', '78', 81.3],\n",
       " ['146', 'Bismil', '89', '89', '46', 74.7],\n",
       " ['147', 'Batool', '90', '56', '79', 75.0],\n",
       " ['148', 'Iqra', '91', '33', '46', 56.7],\n",
       " ['149', 'Zarnish', '92', '78', '45', 71.7],\n",
       " ['150', 'Zara', '83', '45', '56', 61.3]]"
      ]
     },
     "execution_count": 14,
     "metadata": {},
     "output_type": "execute_result"
    }
   ],
   "source": [
    "student_data\n"
   ]
  },
  {
   "cell_type": "code",
   "execution_count": 15,
   "id": "48f20510-97bc-4964-9147-4fd89d73f3cb",
   "metadata": {},
   "outputs": [],
   "source": [
    "for grade in student_data:\n",
    "    percentage1 = int(grade[5])  \n",
    "    \n",
    "    if percentage1 >= 80:\n",
    "        grade.append(\"A\")\n",
    "    elif 70 <= percentage1 < 80:\n",
    "        grade.append(\"B\")\n",
    "    elif 60 <= percentage1 < 70:\n",
    "        grade.append(\"C\")\n",
    "    elif 50 <= percentage1 < 60:\n",
    "        grade.append(\"D\")\n",
    "    else:\n",
    "        grade.append(\"F\")\n"
   ]
  },
  {
   "cell_type": "code",
   "execution_count": 16,
   "id": "f8d700b8-817c-4f40-9e48-0b5db9a745af",
   "metadata": {},
   "outputs": [
    {
     "data": {
      "text/plain": [
       "[['101', 'Aliza', '50', '23', '87', 53.3, 'D'],\n",
       " ['102', 'Fareed', '45', '24', '88', 52.3, 'D'],\n",
       " ['103', 'Basit', '46', '25', '89', 53.3, 'D'],\n",
       " ['104', 'Abdullah', '47', '26', '90', 54.3, 'D'],\n",
       " ['105', 'Ali', '48', '27', '67', 47.3, 'F'],\n",
       " ['106', 'Mubashir', '49', '28', '68', 48.3, 'F'],\n",
       " ['107', 'Waleed', '50', '29', '69', 49.3, 'F'],\n",
       " ['108', 'Mansoor', '51', '30', '70', 50.3, 'D'],\n",
       " ['109', 'Zain', '52', '31', '71', 51.3, 'D'],\n",
       " ['110', 'Mohsin', '53', '67', '72', 64.0, 'C'],\n",
       " ['111', 'Shahmeer', '54', '68', '73', 65.0, 'C'],\n",
       " ['112', 'Rao', '55', '69', '74', 66.0, 'C'],\n",
       " ['113', 'Aurangzeb', '56', '70', '75', 67.0, 'C'],\n",
       " ['114', 'Zeeshan', '57', '71', '76', 68.0, 'C'],\n",
       " ['115', 'Hamna', '58', '72', '77', 69.0, 'C'],\n",
       " ['116', 'Hamza', '59', '73', '78', 70.0, 'B'],\n",
       " ['117', 'Khalid', '60', '74', '79', 71.0, 'B'],\n",
       " ['118', 'Behroz', '61', '75', '80', 72.0, 'B'],\n",
       " ['119', 'Justin', '62', '76', '81', 73.0, 'B'],\n",
       " ['120', 'Danish', '63', '77', '82', 74.0, 'B'],\n",
       " ['121', 'Kainat', '64', '78', '83', 75.0, 'B'],\n",
       " ['122', 'Sameer', '65', '79', '84', 76.0, 'B'],\n",
       " ['123', 'Raza', '66', '80', '85', 77.0, 'B'],\n",
       " ['124', 'Kumar', '67', '81', '86', 78.0, 'B'],\n",
       " ['125', 'Komal', '68', '82', '87', 79.0, 'B'],\n",
       " ['126', 'Erum', '69', '83', '88', 80.0, 'A'],\n",
       " ['127', 'Faiza', '70', '84', '89', 81.0, 'A'],\n",
       " ['128', 'Saeed', '71', '85', '90', 82.0, 'A'],\n",
       " ['129', 'Waqar', '72', '86', '91', 83.0, 'A'],\n",
       " ['130', 'Wali', '73', '87', '92', 84.0, 'A'],\n",
       " ['131', 'Wajid', '74', '88', '93', 85.0, 'A'],\n",
       " ['132', 'Waseeb', '75', '89', '94', 86.0, 'A'],\n",
       " ['133', 'Shiza', '76', '90', '95', 87.0, 'A'],\n",
       " ['134', 'Shabina', '77', '91', '96', 88.0, 'A'],\n",
       " ['135', 'Shazain', '78', '55', '97', 76.7, 'B'],\n",
       " ['136', 'Lubna', '79', '61', '98', 79.3, 'B'],\n",
       " ['137', 'Laiba', '80', '88', '78', 82.0, 'A'],\n",
       " ['138', 'Khursheed', '81', '56', '45', 60.7, 'C'],\n",
       " ['139', 'Ali', '82', '89', '46', 72.3, 'B'],\n",
       " ['140', 'Aiza', '83', '45', '89', 72.3, 'B'],\n",
       " ['141', 'Aiman', '84', '92', '78', 84.7, 'A'],\n",
       " ['142', 'Yasmeen', '85', '36', '56', 59.0, 'D'],\n",
       " ['143', 'Tasbeel', '86', '78', '78', 80.7, 'A'],\n",
       " ['144', 'Laraib', '87', '56', '54', 65.7, 'C'],\n",
       " ['145', 'Saleem', '88', '78', '78', 81.3, 'A'],\n",
       " ['146', 'Bismil', '89', '89', '46', 74.7, 'B'],\n",
       " ['147', 'Batool', '90', '56', '79', 75.0, 'B'],\n",
       " ['148', 'Iqra', '91', '33', '46', 56.7, 'D'],\n",
       " ['149', 'Zarnish', '92', '78', '45', 71.7, 'B'],\n",
       " ['150', 'Zara', '83', '45', '56', 61.3, 'C']]"
      ]
     },
     "execution_count": 16,
     "metadata": {},
     "output_type": "execute_result"
    }
   ],
   "source": [
    "student_data"
   ]
  },
  {
   "cell_type": "code",
   "execution_count": 17,
   "id": "0fa3c050-6aca-4df4-bf65-5677bc6fba34",
   "metadata": {},
   "outputs": [],
   "source": [
    "data[0].append(\"Percentage\")\n"
   ]
  },
  {
   "cell_type": "code",
   "execution_count": 18,
   "id": "79337bd8-8bae-460d-95fc-fab51116166d",
   "metadata": {},
   "outputs": [],
   "source": [
    "data[0].append(\"Grade\")"
   ]
  },
  {
   "cell_type": "code",
   "execution_count": 19,
   "id": "67f2d883-56a7-4800-87ad-7596e3f11603",
   "metadata": {},
   "outputs": [
    {
     "data": {
      "text/plain": [
       "[['roll no', 'Name', 'Chemistry', 'Physics', 'Math', 'Percentage', 'Grade'],\n",
       " ['101', 'Aliza', '50', '23', '87', 53.3, 'D'],\n",
       " ['102', 'Fareed', '45', '24', '88', 52.3, 'D'],\n",
       " ['103', 'Basit', '46', '25', '89', 53.3, 'D'],\n",
       " ['104', 'Abdullah', '47', '26', '90', 54.3, 'D'],\n",
       " ['105', 'Ali', '48', '27', '67', 47.3, 'F'],\n",
       " ['106', 'Mubashir', '49', '28', '68', 48.3, 'F'],\n",
       " ['107', 'Waleed', '50', '29', '69', 49.3, 'F'],\n",
       " ['108', 'Mansoor', '51', '30', '70', 50.3, 'D'],\n",
       " ['109', 'Zain', '52', '31', '71', 51.3, 'D'],\n",
       " ['110', 'Mohsin', '53', '67', '72', 64.0, 'C'],\n",
       " ['111', 'Shahmeer', '54', '68', '73', 65.0, 'C'],\n",
       " ['112', 'Rao', '55', '69', '74', 66.0, 'C'],\n",
       " ['113', 'Aurangzeb', '56', '70', '75', 67.0, 'C'],\n",
       " ['114', 'Zeeshan', '57', '71', '76', 68.0, 'C'],\n",
       " ['115', 'Hamna', '58', '72', '77', 69.0, 'C'],\n",
       " ['116', 'Hamza', '59', '73', '78', 70.0, 'B'],\n",
       " ['117', 'Khalid', '60', '74', '79', 71.0, 'B'],\n",
       " ['118', 'Behroz', '61', '75', '80', 72.0, 'B'],\n",
       " ['119', 'Justin', '62', '76', '81', 73.0, 'B'],\n",
       " ['120', 'Danish', '63', '77', '82', 74.0, 'B'],\n",
       " ['121', 'Kainat', '64', '78', '83', 75.0, 'B'],\n",
       " ['122', 'Sameer', '65', '79', '84', 76.0, 'B'],\n",
       " ['123', 'Raza', '66', '80', '85', 77.0, 'B'],\n",
       " ['124', 'Kumar', '67', '81', '86', 78.0, 'B'],\n",
       " ['125', 'Komal', '68', '82', '87', 79.0, 'B'],\n",
       " ['126', 'Erum', '69', '83', '88', 80.0, 'A'],\n",
       " ['127', 'Faiza', '70', '84', '89', 81.0, 'A'],\n",
       " ['128', 'Saeed', '71', '85', '90', 82.0, 'A'],\n",
       " ['129', 'Waqar', '72', '86', '91', 83.0, 'A'],\n",
       " ['130', 'Wali', '73', '87', '92', 84.0, 'A'],\n",
       " ['131', 'Wajid', '74', '88', '93', 85.0, 'A'],\n",
       " ['132', 'Waseeb', '75', '89', '94', 86.0, 'A'],\n",
       " ['133', 'Shiza', '76', '90', '95', 87.0, 'A'],\n",
       " ['134', 'Shabina', '77', '91', '96', 88.0, 'A'],\n",
       " ['135', 'Shazain', '78', '55', '97', 76.7, 'B'],\n",
       " ['136', 'Lubna', '79', '61', '98', 79.3, 'B'],\n",
       " ['137', 'Laiba', '80', '88', '78', 82.0, 'A'],\n",
       " ['138', 'Khursheed', '81', '56', '45', 60.7, 'C'],\n",
       " ['139', 'Ali', '82', '89', '46', 72.3, 'B'],\n",
       " ['140', 'Aiza', '83', '45', '89', 72.3, 'B'],\n",
       " ['141', 'Aiman', '84', '92', '78', 84.7, 'A'],\n",
       " ['142', 'Yasmeen', '85', '36', '56', 59.0, 'D'],\n",
       " ['143', 'Tasbeel', '86', '78', '78', 80.7, 'A'],\n",
       " ['144', 'Laraib', '87', '56', '54', 65.7, 'C'],\n",
       " ['145', 'Saleem', '88', '78', '78', 81.3, 'A'],\n",
       " ['146', 'Bismil', '89', '89', '46', 74.7, 'B'],\n",
       " ['147', 'Batool', '90', '56', '79', 75.0, 'B'],\n",
       " ['148', 'Iqra', '91', '33', '46', 56.7, 'D'],\n",
       " ['149', 'Zarnish', '92', '78', '45', 71.7, 'B'],\n",
       " ['150', 'Zara', '83', '45', '56', 61.3, 'C']]"
      ]
     },
     "execution_count": 19,
     "metadata": {},
     "output_type": "execute_result"
    }
   ],
   "source": [
    "data"
   ]
  },
  {
   "cell_type": "code",
   "execution_count": 40,
   "id": "748b49b8-dd75-41d1-b681-fb70a3ac13a1",
   "metadata": {},
   "outputs": [],
   "source": [
    "open_file = open(\"data1.csv\", mode = \"w\",newline = \"\")"
   ]
  },
  {
   "cell_type": "code",
   "execution_count": 42,
   "id": "0db8f059-6eb9-45d5-af9e-b7c8bbc2ff68",
   "metadata": {},
   "outputs": [
    {
     "data": {
      "text/plain": [
       "<_io.TextIOWrapper name='data1.csv' mode='w' encoding='cp1252'>"
      ]
     },
     "execution_count": 42,
     "metadata": {},
     "output_type": "execute_result"
    }
   ],
   "source": [
    "open_file"
   ]
  },
  {
   "cell_type": "code",
   "execution_count": 44,
   "id": "26a1986d-9d45-42cb-8009-d8790940d40e",
   "metadata": {},
   "outputs": [
    {
     "data": {
      "text/plain": [
       "<_csv.writer at 0x20897c27040>"
      ]
     },
     "execution_count": 44,
     "metadata": {},
     "output_type": "execute_result"
    }
   ],
   "source": [
    "writer = csv.writer(open_file)\n",
    "writer"
   ]
  },
  {
   "cell_type": "code",
   "execution_count": 46,
   "id": "87891fa2-ca80-47f2-8387-f0eb3b7e84bd",
   "metadata": {},
   "outputs": [],
   "source": [
    "writer.writerows(data)\n",
    "open_file.close()"
   ]
  },
  {
   "cell_type": "code",
   "execution_count": null,
   "id": "7cf03b10-edcc-441a-98cc-10442da87181",
   "metadata": {},
   "outputs": [],
   "source": []
  }
 ],
 "metadata": {
  "kernelspec": {
   "display_name": "Python 3 (ipykernel)",
   "language": "python",
   "name": "python3"
  },
  "language_info": {
   "codemirror_mode": {
    "name": "ipython",
    "version": 3
   },
   "file_extension": ".py",
   "mimetype": "text/x-python",
   "name": "python",
   "nbconvert_exporter": "python",
   "pygments_lexer": "ipython3",
   "version": "3.12.4"
  }
 },
 "nbformat": 4,
 "nbformat_minor": 5
}
